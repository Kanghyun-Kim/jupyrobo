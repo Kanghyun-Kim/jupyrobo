{
 "cells": [
  {
   "cell_type": "code",
   "execution_count": 20,
   "metadata": {},
   "outputs": [],
   "source": [
    "import numpy as np\n",
    "import matplotlib.pyplot as plt\n",
    "import matplotlib.patches as mpatches\n",
    "import random"
   ]
  },
  {
   "cell_type": "markdown",
   "metadata": {},
   "source": [
    "# Rapidly Exploring Tree"
   ]
  },
  {
   "cell_type": "markdown",
   "metadata": {},
   "source": [
    "### Define Node Class\n",
    "* variables : position, parent(previous node)\n",
    "* methods : \n",
    "    * \\- (sub) : calculate euclidean distance\n",
    "    * repr : print node information\n",
    "    * show : visualize node position"
   ]
  },
  {
   "cell_type": "code",
   "execution_count": 22,
   "metadata": {},
   "outputs": [],
   "source": [
    "import numpy.linalg as LA\n",
    "class Node():\n",
    "    def __init__(self, position, parent=None):\n",
    "        self.position = np.array(position)\n",
    "        self.parent = parent\n",
    "    def __sub__(self, other):\n",
    "        return LA.norm(self.position - other.position)\n",
    "    \n",
    "    def __repr__(self):\n",
    "        return 'pos:{0}'.format(self.position)\n",
    "    \n",
    "    def show(self):\n",
    "        plt.gca().scatter(self.position[0], self.position[1])\n",
    "        plt.xlim([0,10])\n",
    "        plt.ylim([0,10])"
   ]
  },
  {
   "cell_type": "markdown",
   "metadata": {},
   "source": [
    "### Define RRT Algorithm Class\n",
    "* variables : \n",
    "    * smpl_area : map area for RRT\n",
    "    * obstacles : circular obstacles informations\n",
    "* methods : \n",
    "    * get_rnd_node : select random point(node) in smpl_area\n",
    "    * is_goal : goal node detection using euclidean distance\n",
    "    * is_collision : collision detection using euclidean distance\n",
    "    * find_nearest_node : find nearest node in tree"
   ]
  },
  {
   "cell_type": "code",
   "execution_count": 154,
   "metadata": {},
   "outputs": [],
   "source": [
    "class RRTAlg():\n",
    "    def __init__(self, start=None, end=None, new_node_dist=0.5, smpl_area=[0,10,0,10], obstacles=None):\n",
    "        self.start = start\n",
    "        self.end = end\n",
    "        self.new_node_dist = new_node_dist\n",
    "        self.smpl_area = smpl_area # [xmin, xmax, ymin, ymax]\n",
    "        self.obstacles = obstacles\n",
    "        self.tree = [self.start]\n",
    "    \n",
    "    def get_rnd_point(self):\n",
    "        rnd_pos = np.array([random.uniform(*rrt.smpl_area[0:2]),\n",
    "                            random.uniform(*rrt.smpl_area[2:])])\n",
    "        return Node(rnd_pos)\n",
    "\n",
    "    def is_goal(self, node, margin=0.5):\n",
    "        if node-self.end < margin:\n",
    "            return True\n",
    "        return False\n",
    "    \n",
    "    def is_collision(self, node, margin):\n",
    "        for obs in self.obstacles:\n",
    "            obs_pos = np.array(obs[:2])\n",
    "            obs_radius = obs[2]\n",
    "            distance = LA.norm(node.position - obs_pos) - obs_radius - margin\n",
    "            if distance < 0:\n",
    "                return True\n",
    "        return False\n",
    "    \n",
    "    def find_nearest_node(self, rnd_node):\n",
    "        distances = [rnd_node-node for node in self.tree]\n",
    "        minidx = distances.index(min(distances))\n",
    "        return self.tree[minidx]\n",
    "    "
   ]
  },
  {
   "cell_type": "markdown",
   "metadata": {},
   "source": [
    "### RRT Class : RRT Algorithm + Visualization"
   ]
  },
  {
   "cell_type": "code",
   "execution_count": 155,
   "metadata": {
    "jupyter": {
     "source_hidden": true
    }
   },
   "outputs": [],
   "source": [
    "class RRT(RRTAlg):\n",
    "    \n",
    "    def show(self):\n",
    "        self.plot_tree()\n",
    "        self.plot_obstacles()\n",
    "        self.plot_final_path()\n",
    "        \n",
    "    def plot_tree(self):\n",
    "        ax = plt.gca()\n",
    "        for node in self.tree:\n",
    "            if node.parent:\n",
    "                pts = np.array([node.position, node.parent.position])\n",
    "                ax.plot(*pts.T, color='k')\n",
    "            \n",
    "    def plot_obstacles(self):\n",
    "        ax = plt.gca()\n",
    "        for obs in self.obstacles:\n",
    "            c = mpatches.Circle(obs[:2], obs[2], fc='k')\n",
    "            ax.add_artist(c)\n",
    "    \n",
    "    def plot_final_path(self):\n",
    "        if not 'goal_node' in dir(self):\n",
    "            return False\n",
    "        \n",
    "        ax = plt.gca()\n",
    "        temp_node = self.goal_node\n",
    "        while temp_node.parent:\n",
    "            pts = np.array([temp_node.position, temp_node.parent.position])\n",
    "            ax.plot(*pts.T, color='r')\n",
    "            temp_node = temp_node.parent\n",
    "    \n",
    "    "
   ]
  },
  {
   "cell_type": "markdown",
   "metadata": {},
   "source": [
    "### Initialization"
   ]
  },
  {
   "cell_type": "code",
   "execution_count": 156,
   "metadata": {},
   "outputs": [],
   "source": [
    "#init\n",
    "start_node = Node([5,5])\n",
    "end_node = Node([1,0.5])\n",
    "smpl_area = [0,10,0,10]\n",
    "obstacles = [(4,8,1), (6,4,1)]\n",
    "\n",
    "rrt = RRT(start_node, end_node, new_node_dist=0.5, smpl_area=smpl_area, obstacles=obstacles)"
   ]
  },
  {
   "cell_type": "markdown",
   "metadata": {},
   "source": [
    "## Search \n",
    "* 'rec' for recording path search\n",
    "* Loop : \n",
    "    * Get Random Point in area\n",
    "    * Find nearest node in tree\n",
    "    * Calculate distance vector from the nearest node to the random point\n",
    "    * Calculate new node : vector of (new_node_len) * (distance vector)\n",
    "    * check collision and goal. if not, add to tree"
   ]
  },
  {
   "cell_type": "code",
   "execution_count": 160,
   "metadata": {},
   "outputs": [
    {
     "name": "stdout",
     "output_type": "stream",
     "text": [
      "goal\n"
     ]
    }
   ],
   "source": [
    "max_iter = 500\n",
    "for i in range(max_iter):\n",
    "    rnd_node = rrt.get_rnd_point()\n",
    "    nearest_node = rrt.find_nearest_node(rnd_node)\n",
    "    distance = (rnd_node.position - nearest_node.position)\n",
    "    new_node_pos = nearest_node.position + distance/LA.norm(distance) * rrt.new_node_dist\n",
    "    new_node = Node(new_node_pos, parent=nearest_node)\n",
    "    \n",
    "    # collision check\n",
    "    if not rrt.is_collision(new_node, margin=0.1):\n",
    "        rrt.tree.append(new_node)\n",
    "    if rrt.is_goal(new_node):\n",
    "        print('goal')\n",
    "        rrt.goal_node = new_node\n",
    "        break\n"
   ]
  },
  {
   "cell_type": "markdown",
   "metadata": {},
   "source": [
    "### Reconstruct Path\n",
    "*   goal - goal.parent - goal.parent.parent - ..."
   ]
  },
  {
   "cell_type": "code",
   "execution_count": 161,
   "metadata": {},
   "outputs": [
    {
     "data": {
      "image/png": "[encoded data removed]",
      "text/plain": [
       "<Figure size 432x288 with 1 Axes>"
      ]
     },
     "metadata": {
      "needs_background": "light"
     },
     "output_type": "display_data"
    }
   ],
   "source": [
    "rrt.show()"
   ]
  }
 ],
 "metadata": {
  "kernelspec": {
   "display_name": "Python 3",
   "language": "python",
   "name": "python3"
  },
  "language_info": {
   "codemirror_mode": {
    "name": "ipython",
    "version": 3
   },
   "file_extension": ".py",
   "mimetype": "text/x-python",
   "name": "python",
   "nbconvert_exporter": "python",
   "pygments_lexer": "ipython3",
   "version": "3.7.4"
  }
 },
 "nbformat": 4,
 "nbformat_minor": 4
}
